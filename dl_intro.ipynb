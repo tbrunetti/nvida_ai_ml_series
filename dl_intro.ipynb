{
  "nbformat": 4,
  "nbformat_minor": 0,
  "metadata": {
    "colab": {
      "provenance": [],
      "collapsed_sections": [
        "OlylxH9QYLFd",
        "GMR1lB8fpHme",
        "V87QIOEct5sB"
      ],
      "include_colab_link": true
    },
    "kernelspec": {
      "name": "python3",
      "display_name": "Python 3"
    },
    "language_info": {
      "name": "python"
    },
    "accelerator": "GPU"
  },
  "cells": [
    {
      "cell_type": "markdown",
      "metadata": {
        "id": "view-in-github",
        "colab_type": "text"
      },
      "source": [
        "<a href=\"https://colab.research.google.com/github/tbrunetti/nvida_ai_ml_series/blob/main/dl_intro.ipynb\" target=\"_parent\"><img src=\"https://colab.research.google.com/assets/colab-badge.svg\" alt=\"Open In Colab\"/></a>"
      ]
    },
    {
      "cell_type": "markdown",
      "metadata": {
        "id": "Jt8IL6_Cdmpw"
      },
      "source": [
        "#**Introduction to Deep Learning**\n",
        "### *Michaela Buchanan - Mark III Systems*"
      ]
    },
    {
      "cell_type": "markdown",
      "metadata": {
        "id": "CpfsmL9Sd3G4"
      },
      "source": [
        "---\n",
        "Imports for all the code below. Please run first before anything else!\n"
      ]
    },
    {
      "cell_type": "code",
      "metadata": {
        "colab": {
          "base_uri": "https://localhost:8080/"
        },
        "id": "YBtll6NYXKEb",
        "outputId": "01240fd5-ef92-4247-f926-d0f39e5f6c83"
      },
      "source": [
        "import tensorflow as tf\n",
        "print(tf.__version__)\n",
        "\n",
        "import numpy as np\n",
        "import pandas as pd\n",
        "import matplotlib.pyplot as plt\n",
        "\n",
        "from sklearn.preprocessing import OneHotEncoder\n",
        "from skimage import color\n",
        "from skimage import io\n",
        "\n",
        "from keras.layers import Conv2D, Dense, Flatten, MaxPooling2D, Dropout, BatchNormalization\n",
        "from keras.models import Sequential, load_model\n",
        "from tensorflow.keras.optimizers import Adam"
      ],
      "execution_count": null,
      "outputs": [
        {
          "output_type": "stream",
          "name": "stdout",
          "text": [
            "2.9.2\n"
          ]
        }
      ]
    },
    {
      "cell_type": "markdown",
      "metadata": {
        "id": "OlylxH9QYLFd"
      },
      "source": [
        "\n",
        "\n",
        "---\n",
        "### Introduction\n"
      ]
    },
    {
      "cell_type": "markdown",
      "metadata": {
        "id": "6P5E6nafyte5"
      },
      "source": [
        "In this workshop we will be working with the CIFAR-10 dataset which consists of 10 classes of images. Our goal is to create a model that can classify images into these 10 categories. To do this, we will be experimenting with building a deep neural network using Tensorflow Keras. While this neural network will be very basic in comparison to many common algorithms used today, it should serve as a good starting point for learning about how to implement deep learning algorithms in Python. "
      ]
    },
    {
      "cell_type": "markdown",
      "metadata": {
        "id": "GMR1lB8fpHme"
      },
      "source": [
        "---\n",
        "### Data Analysis and Preprocessing"
      ]
    },
    {
      "cell_type": "markdown",
      "metadata": {
        "id": "qTGUkV4fzKHF"
      },
      "source": [
        "The 10 classes in CIFAR are denoted by numbers in our Y variables. The list of classes and their associated numbers can be found below:\n",
        "\n",
        "```\n",
        "0.   airplane\n",
        "1.   automobile\n",
        "2.   bird\n",
        "3.   cat\n",
        "4.   deer\n",
        "5.   dog\n",
        "6.   frog\n",
        "7.   horse\n",
        "8.   ship\n",
        "9.   truck\n",
        "```\n",
        "Knowing the dimensions of our images and the number of entries in our dataset are both important for correctly setting up our neural network. All of our images need to be the same size so we have the same number of neurons in the input layer of our model. This shouldn't be a problem with this dataset as all the images are uniform but it is a caveat you will have to watch out for with your own datasets. Let's start by taking a look at our CIFAR-10 dataset.\n"
      ]
    },
    {
      "cell_type": "code",
      "metadata": {
        "colab": {
          "base_uri": "https://localhost:8080/",
          "height": 335
        },
        "id": "PV6UP8cTXWL-",
        "outputId": "0929b865-2d92-4c42-a097-6a474f919ccd"
      },
      "source": [
        "# Load in our dataset from Keras\n",
        "cifar10 = tf.keras.datasets.cifar10\n",
        "(x_train, y_train), (x_test, y_test) = cifar10.load_data()\n",
        "\n",
        "# Use matplotlib to show sample image\n",
        "print(y_train[5])\n",
        "plt.imshow(x_train[5])"
      ],
      "execution_count": null,
      "outputs": [
        {
          "output_type": "stream",
          "name": "stdout",
          "text": [
            "Downloading data from https://www.cs.toronto.edu/~kriz/cifar-10-python.tar.gz\n",
            "170498071/170498071 [==============================] - 14s 0us/step\n",
            "[1]\n"
          ]
        },
        {
          "output_type": "execute_result",
          "data": {
            "text/plain": [
              "<matplotlib.image.AxesImage at 0x7ff907104950>"
            ]
          },
          "metadata": {},
          "execution_count": 3
        },
        {
          "output_type": "display_data",
          "data": {
            "text/plain": [
              "<Figure size 432x288 with 1 Axes>"
            ],
            "image/png": "[encoded data removed]"
          },
          "metadata": {
            "needs_background": "light"
          }
        }
      ]
    },
    {
      "cell_type": "markdown",
      "metadata": {
        "id": "AT0uv2RwTk1g"
      },
      "source": [
        "If you look above, we got the number 1 when we printed the y associated with our image we displayed. This makes sense as we are looking at an image of a car, and according to the list above the image should be in the automobile class. The low resolution is nothing to be alarmed about. CIFAR-10 images are purposely low resolution in order to keep the size of the input layer reasonable as this dataset is primarily for people looking to learn how to use DL, not real world model training. Feel free to look at different images in the dataset by replacing the number 5 in these two lines with another number.\n",
        "\n"
      ]
    },
    {
      "cell_type": "markdown",
      "metadata": {
        "id": "jb1x9Ncp0DtC"
      },
      "source": [
        "Now we need to figure out some important information about our dataset. Let's start by checking the dimensions of the images we are using."
      ]
    },
    {
      "cell_type": "code",
      "metadata": {
        "id": "70kU0jXQX3Yn",
        "colab": {
          "base_uri": "https://localhost:8080/"
        },
        "outputId": "d0cee7ae-c7a6-4026-9d12-be278bd37b44"
      },
      "source": [
        "print(\"single image shape: \",x_train[5].shape)\n",
        "print(\"training dataset shape: \", x_train.shape)"
      ],
      "execution_count": null,
      "outputs": [
        {
          "output_type": "stream",
          "name": "stdout",
          "text": [
            "single image shape:  (32, 32, 3)\n",
            "training dataset shape:  (50000, 32, 32, 3)\n"
          ]
        }
      ]
    },
    {
      "cell_type": "markdown",
      "metadata": {
        "id": "ww0kbBNEWlJr"
      },
      "source": [
        "Our model isn't going to know what to do with integer output for our Y like we have now so we need to convert it to one-hot encoding. One-hot encoding creates an array that has the lenght of the number of options we have. Then we set 1 to the corresponding category of the entry we are dealing with and the rest to 0. This will probably make more sense when you take a look at the example below."
      ]
    },
    {
      "cell_type": "code",
      "metadata": {
        "colab": {
          "base_uri": "https://localhost:8080/"
        },
        "id": "4cxAIgNiZIUY",
        "outputId": "6decaa5e-6065-49bf-9db4-737a0ddeb87d"
      },
      "source": [
        "# creates and formate one-hot encoder\n",
        "one_hot_encoder = OneHotEncoder(sparse=False)\n",
        "one_hot_encoder.fit(y_train)\n",
        "\n",
        "# actually one-hot encodes our data\n",
        "y_train = one_hot_encoder.transform(y_train)\n",
        "y_test = one_hot_encoder.transform(y_test)\n",
        "\n",
        "print(y_train[5])"
      ],
      "execution_count": null,
      "outputs": [
        {
          "output_type": "stream",
          "name": "stdout",
          "text": [
            "[0. 1. 0. 0. 0. 0. 0. 0. 0. 0.]\n"
          ]
        }
      ]
    },
    {
      "cell_type": "markdown",
      "metadata": {
        "id": "8xiHYGteZubb"
      },
      "source": [
        "Here you can see for our 5th training sample, the 1 spot (remember we start counting at 0) has a 1 in it while the rest of the spots in the array are 0. This gives us the same information the Y did previously but in a format that will be much easier for the model to associate with the 10 output neurons we will be creating."
      ]
    },
    {
      "cell_type": "markdown",
      "metadata": {
        "id": "Qon-hkTDi8as"
      },
      "source": [
        "Our x entries are going to consist of three numbers ranging from 0-255 representing the RGB of that pixel. Since we know this, we can easily normalize our data so that it's easier to train with."
      ]
    },
    {
      "cell_type": "code",
      "metadata": {
        "id": "Bsa0Rt_ljIuu"
      },
      "source": [
        "x_train = x_train.astype('float32')\n",
        "x_test = x_test.astype('float32')\n",
        "x_train = x_train / 255\n",
        "x_test = x_test / 255"
      ],
      "execution_count": null,
      "outputs": []
    },
    {
      "cell_type": "markdown",
      "metadata": {
        "id": "tgVhb_M7fO4O"
      },
      "source": [
        "---\n",
        "### Creating our Model\n",
        "\n"
      ]
    },
    {
      "cell_type": "markdown",
      "metadata": {
        "id": "CG0wzh353Hgs"
      },
      "source": [
        "Now it's time to start creating our neural network. Luckily, Keras makes this pretty easy, especially when you are using what's called a Sequencial model which is what we will be doing today. With a Sequential Keras model, all you need to do is initialize the model and then add layers to it using premade functions in Keras as you will see in a minute. Sequential models are great for situations where you have only one input and one output vector and you are not planning on doing any layer sharing and are sticking to a linear model topology. To start with, let's define some of the variables we need. First we have our batch size which designates how many training samples we go through before we backpropogate changes through the model. Then we have epochs which is how many times we go through the whole dataset. Feel free to change these variables to see what happens. You can do as many or as few epochs but batch_size must be 1 < batch_size < 50,000 since we have 50,000 entries in x_train. num_classes just defines how many categories we have that we are classifying into in our output layer."
      ]
    },
    {
      "cell_type": "code",
      "metadata": {
        "id": "gXHgt4VZh8NM"
      },
      "source": [
        "# feel free to experiment with these\n",
        "batch = 32\n",
        "num_epochs = 20\n",
        "\n",
        "# don't touch this unless using a different dataset\n",
        "num_classes = 10"
      ],
      "execution_count": null,
      "outputs": []
    },
    {
      "cell_type": "markdown",
      "metadata": {
        "id": "fAjYAEm5iBoe"
      },
      "source": [
        "Let's create our model. "
      ]
    },
    {
      "cell_type": "code",
      "metadata": {
        "colab": {
          "base_uri": "https://localhost:8080/"
        },
        "id": "bS9KKKsnrDcr",
        "outputId": "4c7dbd3c-24ac-41d2-fc55-676f1d329abb"
      },
      "source": [
        "# initialize model\n",
        "model = Sequential()\n",
        "\n",
        "model.add(Conv2D(input_shape=x_train[0,:,:,:].shape, filters=96, kernel_size=(3,3), activation='relu'))\n",
        "model.add(Conv2D(filters=96, kernel_size=(3,3), strides=2, activation='relu'))\n",
        "model.add(Conv2D(filters=192, kernel_size=(3,3), activation='relu'))\n",
        "model.add(Conv2D(filters=192, kernel_size=(3,3), strides=2, activation='relu'))\n",
        "\n",
        "model.add(Flatten())\n",
        "model.add(BatchNormalization())\n",
        "model.add(Dense(256, activation='relu'))\n",
        "model.add(Dense(num_classes, activation=\"softmax\"))\n",
        "\n",
        "model.summary()"
      ],
      "execution_count": null,
      "outputs": [
        {
          "output_type": "stream",
          "name": "stdout",
          "text": [
            "Model: \"sequential\"\n",
            "_________________________________________________________________\n",
            " Layer (type)                Output Shape              Param #   \n",
            "=================================================================\n",
            " conv2d (Conv2D)             (None, 30, 30, 96)        2688      \n",
            "                                                                 \n",
            " conv2d_1 (Conv2D)           (None, 14, 14, 96)        83040     \n",
            "                                                                 \n",
            " conv2d_2 (Conv2D)           (None, 12, 12, 192)       166080    \n",
            "                                                                 \n",
            " conv2d_3 (Conv2D)           (None, 5, 5, 192)         331968    \n",
            "                                                                 \n",
            " flatten (Flatten)           (None, 4800)              0         \n",
            "                                                                 \n",
            " batch_normalization (BatchN  (None, 4800)             19200     \n",
            " ormalization)                                                   \n",
            "                                                                 \n",
            " dense (Dense)               (None, 256)               1229056   \n",
            "                                                                 \n",
            " dense_1 (Dense)             (None, 10)                2570      \n",
            "                                                                 \n",
            "=================================================================\n",
            "Total params: 1,834,602\n",
            "Trainable params: 1,825,002\n",
            "Non-trainable params: 9,600\n",
            "_________________________________________________________________\n"
          ]
        }
      ]
    },
    {
      "cell_type": "markdown",
      "metadata": {
        "id": "gYTkeuwS_Fng"
      },
      "source": [
        "The last line prints a nice summary of the model we have created and the output shapes from each layer. If you are having trouble getting your data to flow through your layers, this model summary can be a great tool for debugging your model. Now that we have defined our model structure, we can use Keras to compile it."
      ]
    },
    {
      "cell_type": "code",
      "metadata": {
        "id": "dCW3YDAn_EtQ"
      },
      "source": [
        "# feel free to experiment with the learning_rate\n",
        "model.compile(\n",
        "    loss='categorical_crossentropy', \n",
        "    optimizer=Adam(learning_rate=0.0001), \n",
        "    metrics=['acc'])"
      ],
      "execution_count": null,
      "outputs": []
    },
    {
      "cell_type": "markdown",
      "metadata": {
        "id": "MzchUyZcCRqd"
      },
      "source": [
        "And finally we can start training our model. To do this, all we have to do is run the fit function on our model as shown below.\n",
        "\n"
      ]
    },
    {
      "cell_type": "code",
      "metadata": {
        "colab": {
          "base_uri": "https://localhost:8080/"
        },
        "id": "WQThjEfUCm6-",
        "outputId": "19886b03-4dcf-4b21-9893-88667bf8bbb9"
      },
      "source": [
        "history = model.fit(\n",
        "    x_train, \n",
        "    y_train, \n",
        "    epochs=num_epochs, \n",
        "    batch_size=batch,\n",
        "    validation_data=(x_test, y_test))"
      ],
      "execution_count": null,
      "outputs": [
        {
          "output_type": "stream",
          "name": "stdout",
          "text": [
            "Epoch 1/20\n",
            "1563/1563 [==============================] - 22s 8ms/step - loss: 1.4272 - acc: 0.4898 - val_loss: 1.3487 - val_acc: 0.5324\n",
            "Epoch 2/20\n",
            "1563/1563 [==============================] - 13s 8ms/step - loss: 1.0464 - acc: 0.6320 - val_loss: 1.0109 - val_acc: 0.6433\n",
            "Epoch 3/20\n",
            "1563/1563 [==============================] - 13s 8ms/step - loss: 0.8273 - acc: 0.7131 - val_loss: 0.9382 - val_acc: 0.6785\n",
            "Epoch 4/20\n",
            "1563/1563 [==============================] - 13s 8ms/step - loss: 0.6592 - acc: 0.7731 - val_loss: 0.9442 - val_acc: 0.6749\n",
            "Epoch 5/20\n",
            "1563/1563 [==============================] - 13s 8ms/step - loss: 0.5217 - acc: 0.8229 - val_loss: 0.9502 - val_acc: 0.6995\n",
            "Epoch 6/20\n",
            "1563/1563 [==============================] - 13s 8ms/step - loss: 0.3995 - acc: 0.8671 - val_loss: 0.9403 - val_acc: 0.7090\n",
            "Epoch 7/20\n",
            "1563/1563 [==============================] - 13s 8ms/step - loss: 0.2986 - acc: 0.9025 - val_loss: 0.8857 - val_acc: 0.7226\n",
            "Epoch 8/20\n",
            "1563/1563 [==============================] - 13s 8ms/step - loss: 0.2192 - acc: 0.9328 - val_loss: 1.0161 - val_acc: 0.7097\n",
            "Epoch 9/20\n",
            "1563/1563 [==============================] - 13s 8ms/step - loss: 0.1614 - acc: 0.9522 - val_loss: 1.0265 - val_acc: 0.7089\n",
            "Epoch 10/20\n",
            "1563/1563 [==============================] - 13s 8ms/step - loss: 0.1197 - acc: 0.9659 - val_loss: 1.0700 - val_acc: 0.7083\n",
            "Epoch 11/20\n",
            "1563/1563 [==============================] - 13s 8ms/step - loss: 0.0930 - acc: 0.9746 - val_loss: 1.1173 - val_acc: 0.7141\n",
            "Epoch 12/20\n",
            "1563/1563 [==============================] - 13s 8ms/step - loss: 0.0764 - acc: 0.9798 - val_loss: 1.1275 - val_acc: 0.7173\n",
            "Epoch 13/20\n",
            "1563/1563 [==============================] - 13s 8ms/step - loss: 0.0627 - acc: 0.9836 - val_loss: 1.1649 - val_acc: 0.7243\n",
            "Epoch 14/20\n",
            "1563/1563 [==============================] - 13s 8ms/step - loss: 0.0570 - acc: 0.9840 - val_loss: 1.2771 - val_acc: 0.7087\n",
            "Epoch 15/20\n",
            "1563/1563 [==============================] - 13s 8ms/step - loss: 0.0502 - acc: 0.9860 - val_loss: 1.2361 - val_acc: 0.7200\n",
            "Epoch 16/20\n",
            "1563/1563 [==============================] - 13s 8ms/step - loss: 0.0448 - acc: 0.9872 - val_loss: 1.3643 - val_acc: 0.7109\n",
            "Epoch 17/20\n",
            "1563/1563 [==============================] - 13s 8ms/step - loss: 0.0368 - acc: 0.9901 - val_loss: 1.3261 - val_acc: 0.7206\n",
            "Epoch 18/20\n",
            "1563/1563 [==============================] - 13s 8ms/step - loss: 0.0389 - acc: 0.9880 - val_loss: 1.3423 - val_acc: 0.7176\n",
            "Epoch 19/20\n",
            "1563/1563 [==============================] - 13s 8ms/step - loss: 0.0346 - acc: 0.9900 - val_loss: 1.3431 - val_acc: 0.7229\n",
            "Epoch 20/20\n",
            "1563/1563 [==============================] - 13s 8ms/step - loss: 0.0339 - acc: 0.9899 - val_loss: 1.4179 - val_acc: 0.7207\n"
          ]
        }
      ]
    },
    {
      "cell_type": "code",
      "metadata": {
        "id": "oFnqStkTYSAp",
        "colab": {
          "base_uri": "https://localhost:8080/",
          "height": 573
        },
        "outputId": "b2aa4037-c061-44d5-ad28-e8a5fc5bb1a7"
      },
      "source": [
        "#  Ploting the accuracy graph\n",
        "plt.plot(history.history['acc'])\n",
        "plt.plot(history.history['val_acc'])\n",
        "plt.title('model accuracy')\n",
        "plt.ylabel('accuracy')\n",
        "plt.xlabel('epoch')\n",
        "plt.legend(['train', 'val'], loc='best')\n",
        "plt.show()\n",
        "# Ploting the loss graph\n",
        "plt.plot(history.history['loss'])\n",
        "plt.plot(history.history['val_loss'])\n",
        "plt.title('model loss')\n",
        "plt.ylabel('loss')\n",
        "plt.xlabel('epoch')\n",
        "plt.legend(['train', 'val'], loc='best')\n",
        "plt.show()"
      ],
      "execution_count": null,
      "outputs": [
        {
          "output_type": "display_data",
          "data": {
            "text/plain": [
              "<Figure size 432x288 with 1 Axes>"
            ],
            "image/png": "[encoded data removed]"
          },
          "metadata": {
            "needs_background": "light"
          }
        },
        {
          "output_type": "display_data",
          "data": {
            "text/plain": [
              "<Figure size 432x288 with 1 Axes>"
            ],
            "image/png": "[encoded data removed]"
          },
          "metadata": {
            "needs_background": "light"
          }
        }
      ]
    },
    {
      "cell_type": "markdown",
      "metadata": {
        "id": "Jxi5ux2xt_Xy"
      },
      "source": [
        "As you can see, our accuracy and loss look great for our training data. However, the same cannot be said for our validation data. This is usually a red flag that our model is overfitting to our training data. In the next section, we are going to make some changes to this model to see if we can get the ovefitting under control."
      ]
    },
    {
      "cell_type": "markdown",
      "metadata": {
        "id": "V87QIOEct5sB"
      },
      "source": [
        "\n",
        "\n",
        "---\n",
        "\n",
        "###Improving our Model"
      ]
    },
    {
      "cell_type": "markdown",
      "metadata": {
        "id": "5CQHgQuRvgjF"
      },
      "source": [
        "Below is a very similar model to the one we created earlier. The only difference is the addition of 2 dropout layers. Dropout layers will ignore a random selection of neurons during training which can help with overfitting."
      ]
    },
    {
      "cell_type": "code",
      "metadata": {
        "id": "0c1v7IaRgE9-",
        "colab": {
          "base_uri": "https://localhost:8080/"
        },
        "outputId": "67887c17-88f1-4df4-d4ec-157afbadab5d"
      },
      "source": [
        "model2 = Sequential()\n",
        "\n",
        "model2.add(Conv2D(input_shape=x_train[0,:,:,:].shape, filters=96, kernel_size=(3,3), activation='relu'))\n",
        "model2.add(Conv2D(filters=96, kernel_size=(3,3), strides=2, activation='relu'))\n",
        "\n",
        "# added dropout layer\n",
        "model2.add(Dropout(0.2))\n",
        "model2.add(Conv2D(filters=192, kernel_size=(3,3), activation='relu'))\n",
        "model2.add(Conv2D(filters=192, kernel_size=(3,3), strides=2, activation='relu'))\n",
        "\n",
        "# added dropout layer\n",
        "model2.add(Dropout(0.5))\n",
        "model2.add(Flatten())\n",
        "model2.add(BatchNormalization())\n",
        "model2.add(Dense(256, activation='relu'))\n",
        "model2.add(Dense(num_classes, activation=\"softmax\"))\n",
        "model2.compile(loss='categorical_crossentropy', optimizer='adam', metrics=['accuracy'])\n",
        "model2.summary()"
      ],
      "execution_count": null,
      "outputs": [
        {
          "output_type": "stream",
          "name": "stdout",
          "text": [
            "Model: \"sequential_1\"\n",
            "_________________________________________________________________\n",
            " Layer (type)                Output Shape              Param #   \n",
            "=================================================================\n",
            " conv2d_4 (Conv2D)           (None, 30, 30, 96)        2688      \n",
            "                                                                 \n",
            " conv2d_5 (Conv2D)           (None, 14, 14, 96)        83040     \n",
            "                                                                 \n",
            " dropout (Dropout)           (None, 14, 14, 96)        0         \n",
            "                                                                 \n",
            " conv2d_6 (Conv2D)           (None, 12, 12, 192)       166080    \n",
            "                                                                 \n",
            " conv2d_7 (Conv2D)           (None, 5, 5, 192)         331968    \n",
            "                                                                 \n",
            " dropout_1 (Dropout)         (None, 5, 5, 192)         0         \n",
            "                                                                 \n",
            " flatten_1 (Flatten)         (None, 4800)              0         \n",
            "                                                                 \n",
            " batch_normalization_1 (Batc  (None, 4800)             19200     \n",
            " hNormalization)                                                 \n",
            "                                                                 \n",
            " dense_2 (Dense)             (None, 256)               1229056   \n",
            "                                                                 \n",
            " dense_3 (Dense)             (None, 10)                2570      \n",
            "                                                                 \n",
            "=================================================================\n",
            "Total params: 1,834,602\n",
            "Trainable params: 1,825,002\n",
            "Non-trainable params: 9,600\n",
            "_________________________________________________________________\n"
          ]
        }
      ]
    },
    {
      "cell_type": "markdown",
      "metadata": {
        "id": "YEQTRM-7zMYC"
      },
      "source": [
        "Let's try training this model with our dropout layers to see if it helps with our overfitting issue."
      ]
    },
    {
      "cell_type": "code",
      "metadata": {
        "id": "_3bF-VNMzHT1",
        "colab": {
          "base_uri": "https://localhost:8080/"
        },
        "outputId": "f6ec373a-77fc-4765-df77-61832315e8d3"
      },
      "source": [
        "history2 = model2.fit(\n",
        "    x_train, \n",
        "    y_train, \n",
        "    epochs=num_epochs, \n",
        "    batch_size=batch,\n",
        "    validation_data=(x_test, y_test))"
      ],
      "execution_count": null,
      "outputs": [
        {
          "output_type": "stream",
          "name": "stdout",
          "text": [
            "Epoch 1/20\n",
            "1563/1563 [==============================] - 14s 9ms/step - loss: 1.6388 - accuracy: 0.4046 - val_loss: 1.5044 - val_accuracy: 0.4744\n",
            "Epoch 2/20\n",
            "1563/1563 [==============================] - 13s 8ms/step - loss: 1.3236 - accuracy: 0.5260 - val_loss: 1.3248 - val_accuracy: 0.5293\n",
            "Epoch 3/20\n",
            "1563/1563 [==============================] - 13s 8ms/step - loss: 1.1742 - accuracy: 0.5807 - val_loss: 1.1914 - val_accuracy: 0.5854\n",
            "Epoch 4/20\n",
            "1563/1563 [==============================] - 13s 8ms/step - loss: 1.0730 - accuracy: 0.6197 - val_loss: 1.0198 - val_accuracy: 0.6460\n",
            "Epoch 5/20\n",
            "1563/1563 [==============================] - 13s 9ms/step - loss: 0.9827 - accuracy: 0.6519 - val_loss: 0.9269 - val_accuracy: 0.6776\n",
            "Epoch 6/20\n",
            "1563/1563 [==============================] - 13s 8ms/step - loss: 0.9268 - accuracy: 0.6725 - val_loss: 0.8569 - val_accuracy: 0.7069\n",
            "Epoch 7/20\n",
            "1563/1563 [==============================] - 13s 9ms/step - loss: 0.8838 - accuracy: 0.6878 - val_loss: 0.9290 - val_accuracy: 0.6789\n",
            "Epoch 8/20\n",
            "1563/1563 [==============================] - 13s 8ms/step - loss: 0.8583 - accuracy: 0.6997 - val_loss: 0.8850 - val_accuracy: 0.6941\n",
            "Epoch 9/20\n",
            "1563/1563 [==============================] - 13s 8ms/step - loss: 0.8179 - accuracy: 0.7134 - val_loss: 0.8055 - val_accuracy: 0.7193\n",
            "Epoch 10/20\n",
            "1563/1563 [==============================] - 13s 8ms/step - loss: 0.7878 - accuracy: 0.7223 - val_loss: 0.9145 - val_accuracy: 0.6939\n",
            "Epoch 11/20\n",
            "1563/1563 [==============================] - 13s 8ms/step - loss: 0.7700 - accuracy: 0.7288 - val_loss: 0.7767 - val_accuracy: 0.7370\n",
            "Epoch 12/20\n",
            "1563/1563 [==============================] - 13s 8ms/step - loss: 0.7619 - accuracy: 0.7314 - val_loss: 0.9935 - val_accuracy: 0.6803\n",
            "Epoch 13/20\n",
            "1563/1563 [==============================] - 13s 8ms/step - loss: 0.7415 - accuracy: 0.7403 - val_loss: 0.7971 - val_accuracy: 0.7285\n",
            "Epoch 14/20\n",
            "1563/1563 [==============================] - 13s 8ms/step - loss: 0.7165 - accuracy: 0.7489 - val_loss: 0.7469 - val_accuracy: 0.7488\n",
            "Epoch 15/20\n",
            "1563/1563 [==============================] - 13s 8ms/step - loss: 0.7057 - accuracy: 0.7543 - val_loss: 0.7510 - val_accuracy: 0.7498\n",
            "Epoch 16/20\n",
            "1563/1563 [==============================] - 13s 9ms/step - loss: 0.6824 - accuracy: 0.7617 - val_loss: 0.7416 - val_accuracy: 0.7566\n",
            "Epoch 17/20\n",
            "1563/1563 [==============================] - 13s 8ms/step - loss: 0.6603 - accuracy: 0.7707 - val_loss: 0.8732 - val_accuracy: 0.7518\n",
            "Epoch 18/20\n",
            "1563/1563 [==============================] - 13s 8ms/step - loss: 0.6527 - accuracy: 0.7725 - val_loss: 0.8336 - val_accuracy: 0.7272\n",
            "Epoch 19/20\n",
            "1563/1563 [==============================] - 13s 8ms/step - loss: 0.6424 - accuracy: 0.7749 - val_loss: 0.9316 - val_accuracy: 0.7457\n",
            "Epoch 20/20\n",
            "1563/1563 [==============================] - 13s 8ms/step - loss: 0.6385 - accuracy: 0.7766 - val_loss: 0.8425 - val_accuracy: 0.7302\n"
          ]
        }
      ]
    },
    {
      "cell_type": "code",
      "metadata": {
        "id": "UTDcTFXEzH2T",
        "colab": {
          "base_uri": "https://localhost:8080/",
          "height": 573
        },
        "outputId": "6c523e6b-82a7-4119-a1f1-38b05e085d58"
      },
      "source": [
        "#  Ploting the accuracy graph\n",
        "plt.plot(history2.history['accuracy'])\n",
        "plt.plot(history2.history['val_accuracy'])\n",
        "plt.title('model accuracy')\n",
        "plt.ylabel('accuracy')\n",
        "plt.xlabel('epoch')\n",
        "plt.legend(['train', 'val'], loc='best')\n",
        "plt.show()\n",
        "# Ploting the loss graph\n",
        "plt.plot(history2.history['loss'])\n",
        "plt.plot(history2.history['val_loss'])\n",
        "plt.title('model loss')\n",
        "plt.ylabel('loss')\n",
        "plt.xlabel('epoch')\n",
        "plt.legend(['train', 'val'], loc='best')\n",
        "plt.show()"
      ],
      "execution_count": null,
      "outputs": [
        {
          "output_type": "display_data",
          "data": {
            "text/plain": [
              "<Figure size 432x288 with 1 Axes>"
            ],
            "image/png": "[encoded data removed]"
          },
          "metadata": {
            "needs_background": "light"
          }
        },
        {
          "output_type": "display_data",
          "data": {
            "text/plain": [
              "<Figure size 432x288 with 1 Axes>"
            ],
            "image/png": "[encoded data removed]"
          },
          "metadata": {
            "needs_background": "light"
          }
        }
      ]
    },
    {
      "cell_type": "markdown",
      "metadata": {
        "id": "CZolzkLezSYC"
      },
      "source": [
        "As you can see, the dropout layers were very helpful with curbing the model's overfitting tendencies. The training and validation accuracies were much more in line with each other. We did take a bit of a hit in training accuracy but the accuracy we achieved in our earlier model wasn't very meaningful anyway since it didn't generalize to data outside of the training set."
      ]
    }
  ]
}